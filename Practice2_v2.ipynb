{
 "cells": [
  {
   "cell_type": "markdown",
   "metadata": {},
   "source": [
    "## Numpy"
   ]
  },
  {
   "cell_type": "markdown",
   "metadata": {},
   "source": [
    "1. ilk numpy array iniz:"
   ]
  },
  {
   "cell_type": "code",
   "execution_count": 9,
   "metadata": {},
   "outputs": [
    {
     "data": {
      "text/plain": [
       "array([180, 215, 210, 210, 188, 176, 209, 200])"
      ]
     },
     "execution_count": 9,
     "metadata": {},
     "output_type": "execute_result"
    }
   ],
   "source": [
    "players = [180, 215, 210, 210, 188, 176, 209, 200]\n",
    "\n",
    "# numpy kutuphanesini np olarak import ediniz\n",
    "import numpy as np\n",
    "\n",
    "# 'players' listesini kullanarak bir numpy array'i olusturun: np_players\n",
    "\n",
    "np_players = np.array(players)\n",
    "\n",
    "# np_players'in tipini yazdiriniz\n",
    "type(np_players)\n",
    "np_players"
   ]
  },
  {
   "cell_type": "markdown",
   "metadata": {},
   "source": [
    "2. numpy arrayi ile islemler:"
   ]
  },
  {
   "cell_type": "code",
   "execution_count": 10,
   "metadata": {},
   "outputs": [
    {
     "name": "stdout",
     "output_type": "stream",
     "text": [
      "[74 74 72 72 73 69 74 70 73 75]\n",
      "[1.8796 1.8796 1.8288 1.8288 1.8542 1.7526 1.8796 1.778  1.8542 1.905 ]\n"
     ]
    }
   ],
   "source": [
    "# normal liste tipinde:\n",
    "boy_inc = [74,74,72,72,73,69,74,70,73,75]\n",
    "\n",
    "# numpy'i import ediniz\n",
    "import numpy as np\n",
    "\n",
    "# boy_inc i kullanarak bir numpy arrayi olusturunuz: np_boy_inc adiyla kaydediniz\n",
    "np_boy_inc = np.array(boy_inc)\n",
    "\n",
    "# np_boy_inc i yazdiriniz\n",
    "print(np_boy_inc)\n",
    "\n",
    "# np_boy_inc i metre cinsine ceviriniz: np_boy_m aduyla kaydediniz\n",
    "np_boy_m = np_boy_inc * 0.0254\n",
    "\n",
    "# np_boy_m 'i yazdiriniz\n",
    "print(np_boy_m)"
   ]
  },
  {
   "cell_type": "markdown",
   "metadata": {},
   "source": [
    "NOT: bu jupiter notebook uzerindeki tum degiskenleri diger hucrelerde kullanabiliriz. ayni isimli iki farkli degisken icin son calistirdigimiz degisken kullanilir."
   ]
  },
  {
   "cell_type": "markdown",
   "metadata": {},
   "source": [
    "3. Burada sporcularin vucut BMI degerlerini bulacagiz. BMI degeri, kilonun(kg) boyun(m) karesine bolunmesi ile elde ediliyor."
   ]
  },
  {
   "cell_type": "code",
   "execution_count": 12,
   "metadata": {},
   "outputs": [
    {
     "name": "stdout",
     "output_type": "stream",
     "text": [
      "[23.11037639 27.60406069 28.48080465 28.48080465 24.80333518 25.99036864\n",
      " 26.83371481 28.69669413 30.47643843 22.4982082 ]\n"
     ]
    }
   ],
   "source": [
    "# NOT: Bir kutuphaneyi bir defa import edip calistirmamiz yeterlidir. Ama burda ogrenme amacli tekrar soruyoruz.\n",
    "# numpy'i import ediniz\n",
    "\n",
    "\n",
    "# boy_inc 'i tekrar yazmak mecburiyetinde olmasak da gozununde olmasi icin listeyi tekrar yaziyoruz. \n",
    "# ilerde bu tekrarlar azalacaktir:\n",
    "boy_inc = [74,74,72,72,73,69,74,70,73,75]\n",
    "\n",
    "agirlik_po = [180,215,210,210,188,176,209,200,231,180]\n",
    "\n",
    "# boy_inc'i numpy arrayine cevirip metre cinsi ile kaydedelim: np_boy_m\n",
    "np_boy_m = np.array(boy_inc) * 0.0254\n",
    "\n",
    "# agirlik_po'i numpy arrayine cevirip kg cinsi ile kaydediniz: np_agirlik_kg\n",
    "np_agirlik_kg = np.array(agirlik_po    ) * 0.453592\n",
    "\n",
    "# BMI'i hesaplayiniz: bmi \n",
    "bmi = np_agirlik_kg / (np_boy_m)**2\n",
    "\n",
    "# bmi degiskenini yazdiriniz (bmi haddi zatinda bir degiskendir, turu listedir)\n",
    "print(bmi)\n"
   ]
  },
  {
   "cell_type": "code",
   "execution_count": 14,
   "metadata": {},
   "outputs": [
    {
     "data": {
      "text/plain": [
       "51"
      ]
     },
     "execution_count": 14,
     "metadata": {},
     "output_type": "execute_result"
    }
   ],
   "source": [
    "# NOT: Normal listeler de ve numpy array'lerinde de ayni sekilde \n",
    "# [] koseli parantez icinde indis numarasi kullanarak elemanlara ulasiyoruz\n",
    "x = [42 , 19 , 16, 13, 51]\n",
    "x[1]\n",
    "import numpy as np\n",
    "y = np.array(x)\n",
    "y[4]"
   ]
  },
  {
   "cell_type": "markdown",
   "metadata": {},
   "source": [
    "4. Zayif sporculari bulalim:"
   ]
  },
  {
   "cell_type": "code",
   "execution_count": 15,
   "metadata": {},
   "outputs": [
    {
     "data": {
      "text/plain": [
       "array([42, 51])"
      ]
     },
     "execution_count": 15,
     "metadata": {},
     "output_type": "execute_result"
    }
   ],
   "source": [
    "# ornek kod:\n",
    "\n",
    "# 22 den buyuk olanlari 'buyuk' adli bir listede tutuyoruz, bunu y listesinde indis olarak kullaniyoruz\n",
    "buyuk = y > 22\n",
    "y[buyuk]"
   ]
  },
  {
   "cell_type": "code",
   "execution_count": 16,
   "metadata": {},
   "outputs": [
    {
     "name": "stdout",
     "output_type": "stream",
     "text": [
      "[ True False False False  True]\n"
     ]
    }
   ],
   "source": [
    "print(buyuk)         # goruldugu uzere 'buyuk' listesi True-False lardan olusan bir liste"
   ]
  },
  {
   "cell_type": "code",
   "execution_count": 17,
   "metadata": {},
   "outputs": [
    {
     "name": "stdout",
     "output_type": "stream",
     "text": [
      "[42 19 16 13 51]\n"
     ]
    }
   ],
   "source": [
    "print(y)     # y listesinde indis olarak kullandigimizda True'nun denk geldigi elemani secer"
   ]
  },
  {
   "cell_type": "code",
   "execution_count": 18,
   "metadata": {},
   "outputs": [
    {
     "data": {
      "text/plain": [
       "array([42, 51])"
      ]
     },
     "execution_count": 18,
     "metadata": {},
     "output_type": "execute_result"
    }
   ],
   "source": [
    "y[buyuk]   # boylece 22 den buyuk sayilari secmis oluruz"
   ]
  },
  {
   "cell_type": "code",
   "execution_count": 19,
   "metadata": {},
   "outputs": [
    {
     "data": {
      "text/plain": [
       "array([42, 51])"
      ]
     },
     "execution_count": 19,
     "metadata": {},
     "output_type": "execute_result"
    }
   ],
   "source": [
    "y[ y>22 ]   # Ayni secimi araci bir degisken ismi olusturmadan dogrudan indis yerine yazarak da yapabiliriz"
   ]
  },
  {
   "cell_type": "markdown",
   "metadata": {},
   "source": [
    "5. bmi degeri 21 den kucuk olan bmi degerlerini secelim:"
   ]
  },
  {
   "cell_type": "code",
   "execution_count": 21,
   "metadata": {},
   "outputs": [
    {
     "name": "stdout",
     "output_type": "stream",
     "text": [
      "[False False False False False False False False False  True]\n",
      "[22.4982082]\n"
     ]
    }
   ],
   "source": [
    "# bmi listesi uzerinde islem yapip 23 den kucuk olup olmadiklarini belirten 'zayif' adli bir array olusturunuz (True-False arrayi): \n",
    "zayif = bmi < 23\n",
    "\n",
    "# zayif arrayini yazdiriniz\n",
    "print(zayif)\n",
    "\n",
    "# zayif arrayini indis olarak kullanip 23ten kucuk olan bmi degerlerini yazdiriniz\n",
    "print(bmi[zayif])"
   ]
  },
  {
   "cell_type": "markdown",
   "metadata": {},
   "source": [
    "6. Numpy elemanlari tek tip olarak tutur. Oysa normal python listeleri farkli tipte elemanlari oldugu gibi tutuyor. \n",
    "Peki, karisik bir listeyi np.array() ile numpy arrayi yaparsak numpy arrayi nasil davranir, bakalim."
   ]
  },
  {
   "cell_type": "code",
   "execution_count": null,
   "metadata": {},
   "outputs": [],
   "source": [
    "np.array([True, 1, 2]) + np.array([3, 4, False])"
   ]
  },
  {
   "cell_type": "code",
   "execution_count": 22,
   "metadata": {},
   "outputs": [
    {
     "data": {
      "text/plain": [
       "[True, 1, 2, 3, 4, False]"
      ]
     },
     "execution_count": 22,
     "metadata": {},
     "output_type": "execute_result"
    }
   ],
   "source": [
    "[True, 1, 2] + [3, 4, False]"
   ]
  },
  {
   "cell_type": "markdown",
   "metadata": {},
   "source": [
    "7. Goruldugu gibi numpy arrayi ve normal python listesi + - * / gibi islemlerde farkli davraniyor."
   ]
  },
  {
   "cell_type": "code",
   "execution_count": 23,
   "metadata": {},
   "outputs": [
    {
     "data": {
      "text/plain": [
       "array([4, 5, 2])"
      ]
     },
     "execution_count": 23,
     "metadata": {},
     "output_type": "execute_result"
    }
   ],
   "source": [
    "np.array([4, 3, 0]) + np.array([0, 2, 2])      # True = 1 ve False = 0 olarak aldi."
   ]
  },
  {
   "cell_type": "code",
   "execution_count": 24,
   "metadata": {},
   "outputs": [
    {
     "data": {
      "text/plain": [
       "array([188, 176, 209, 200, 231])"
      ]
     },
     "execution_count": 24,
     "metadata": {},
     "output_type": "execute_result"
    }
   ],
   "source": [
    "boy_inc = [74,74,72,72,73,69,74,70,73,75]\n",
    "agirlik_po = [180,215,210,210,188,176,209,200,231,180]\n",
    "\n",
    "# verilen listeleri npy arrayi olarak kaydediniz: np_boy_inc ve np_agirlik_po olarak.\n",
    "np_boy_inc = np.array(boy_inc)\n",
    "np_agirlik_po = np.array(agirlik_po)\n",
    "\n",
    "# np_agirlik_po arrayinin 5. elemanini yazdiriniz\n",
    "np_agirlik_po[4]\n",
    "\n",
    "# np_boy_inc arrayinin 5. ile 8. elemanlari arasini yazdiriniz. (5 ve 8 dahil)\n",
    "np_agirlik_po[4:9]"
   ]
  },
  {
   "cell_type": "markdown",
   "metadata": {},
   "source": [
    "8. Iki boyutlu numpy arrayi"
   ]
  },
  {
   "cell_type": "code",
   "execution_count": 28,
   "metadata": {},
   "outputs": [
    {
     "name": "stdout",
     "output_type": "stream",
     "text": [
      "<class 'numpy.ndarray'>\n"
     ]
    },
    {
     "data": {
      "text/plain": [
       "(4, 2)"
      ]
     },
     "execution_count": 28,
     "metadata": {},
     "output_type": "execute_result"
    }
   ],
   "source": [
    "sporcular = [[180, 78.4],\n",
    "            [215, 102.7],\n",
    "            [210, 98.5],\n",
    "            [188, 75.2]]\n",
    "\n",
    "# numpy i import ediniz\n",
    "\n",
    "\n",
    "# sporcular listesini kullanarak 2 boyutlu numpy arrayini olusturunuz: np_sporcular\n",
    "np_sporcular = np.array(sporcular)\n",
    "\n",
    "# np_sporcular in tipini yazdiriniz\n",
    "print(type(np_sporcular))\n",
    "\n",
    "# np_sporcular in boyutunu yazdiriniz\n",
    "np_sporcular.shape"
   ]
  },
  {
   "cell_type": "markdown",
   "metadata": {},
   "source": [
    "9. BILGI: cok boyutlu normal liste ve array arasindaki fark:"
   ]
  },
  {
   "cell_type": "code",
   "execution_count": 29,
   "metadata": {},
   "outputs": [
    {
     "data": {
      "text/plain": [
       "['a', 'c']"
      ]
     },
     "execution_count": 29,
     "metadata": {},
     "output_type": "execute_result"
    }
   ],
   "source": [
    "# normal liste ici liste\n",
    "x = [[\"a\", \"b\"], [\"c\", \"d\"]]\n",
    "[x[0][0], x[1][0]]"
   ]
  },
  {
   "cell_type": "code",
   "execution_count": 2,
   "metadata": {},
   "outputs": [
    {
     "ename": "NameError",
     "evalue": "name 'x' is not defined",
     "output_type": "error",
     "traceback": [
      "\u001b[1;31m---------------------------------------------------------------------------\u001b[0m",
      "\u001b[1;31mNameError\u001b[0m                                 Traceback (most recent call last)",
      "\u001b[1;32m<ipython-input-2-106b28f890aa>\u001b[0m in \u001b[0;36m<module>\u001b[1;34m\u001b[0m\n\u001b[0;32m      1\u001b[0m \u001b[1;31m# numpy arrayi\u001b[0m\u001b[1;33m\u001b[0m\u001b[1;33m\u001b[0m\u001b[1;33m\u001b[0m\u001b[0m\n\u001b[0;32m      2\u001b[0m \u001b[1;32mimport\u001b[0m \u001b[0mnumpy\u001b[0m \u001b[1;32mas\u001b[0m \u001b[0mnp\u001b[0m\u001b[1;33m\u001b[0m\u001b[1;33m\u001b[0m\u001b[0m\n\u001b[1;32m----> 3\u001b[1;33m \u001b[0mnp_x\u001b[0m \u001b[1;33m=\u001b[0m \u001b[0mnp\u001b[0m\u001b[1;33m.\u001b[0m\u001b[0marray\u001b[0m\u001b[1;33m(\u001b[0m\u001b[0mx\u001b[0m\u001b[1;33m)\u001b[0m\u001b[1;33m\u001b[0m\u001b[1;33m\u001b[0m\u001b[0m\n\u001b[0m\u001b[0;32m      4\u001b[0m \u001b[0mnp_x\u001b[0m\u001b[1;33m[\u001b[0m\u001b[1;33m:\u001b[0m\u001b[1;33m,\u001b[0m\u001b[1;36m0\u001b[0m\u001b[1;33m]\u001b[0m           \u001b[1;31m# kesisiminde kalan elemani secme mantigi\u001b[0m\u001b[1;33m\u001b[0m\u001b[1;33m\u001b[0m\u001b[0m\n",
      "\u001b[1;31mNameError\u001b[0m: name 'x' is not defined"
     ]
    }
   ],
   "source": [
    "# numpy arrayi\n",
    "import numpy as np\n",
    "np_x = np.array(x)\n",
    "np_x[:,0]           # kesisiminde kalan elemani secme mantigi"
   ]
  },
  {
   "cell_type": "markdown",
   "metadata": {},
   "source": [
    "10. cok boyutlu arraylerde indisle secme islemleri:"
   ]
  },
  {
   "cell_type": "code",
   "execution_count": 33,
   "metadata": {},
   "outputs": [
    {
     "data": {
      "text/plain": [
       "array([210. ,  98.5])"
      ]
     },
     "execution_count": 33,
     "metadata": {},
     "output_type": "execute_result"
    }
   ],
   "source": [
    "sporcular = [[180, 78.4],\n",
    "            [215, 102.7],\n",
    "            [210, 98.5],\n",
    "            [188, 75.2]]\n",
    "\n",
    "# arrayi numpy arrayine ceviriniz: np_sporcular\n",
    "np_sporcular = np.array(sporcular)\n",
    "\n",
    "# arrayin 3. elemanini yazdiriniz\n",
    "np_sporcular[2]"
   ]
  },
  {
   "cell_type": "code",
   "execution_count": 34,
   "metadata": {},
   "outputs": [
    {
     "data": {
      "text/plain": [
       "array([180., 215., 210., 188.])"
      ]
     },
     "execution_count": 34,
     "metadata": {},
     "output_type": "execute_result"
    }
   ],
   "source": [
    "# np_sporcular arrayinin ilk sutununun hepsini yazdiriniz\n",
    "np_sporcular[:,0]                         # (kesisim mantigi)"
   ]
  },
  {
   "cell_type": "code",
   "execution_count": 35,
   "metadata": {},
   "outputs": [
    {
     "data": {
      "text/plain": [
       "array([ 78.4, 102.7,  98.5,  75.2])"
      ]
     },
     "execution_count": 35,
     "metadata": {},
     "output_type": "execute_result"
    }
   ],
   "source": [
    "# np_sporcular arrayinin ikinci sutununun hepsini yazdiriniz\n",
    "np_sporcular[:,1]"
   ]
  },
  {
   "cell_type": "code",
   "execution_count": 37,
   "metadata": {},
   "outputs": [
    {
     "data": {
      "text/plain": [
       "210.0"
      ]
     },
     "execution_count": 37,
     "metadata": {},
     "output_type": "execute_result"
    }
   ],
   "source": [
    "# np_sporcular arrayinin 3. satirinin  1.sutundaki degeri yazdiriniz\n",
    "np_sporcular[2,0]"
   ]
  },
  {
   "cell_type": "code",
   "execution_count": 39,
   "metadata": {},
   "outputs": [
    {
     "data": {
      "text/plain": [
       "array([[ 1.8796  , 81.64656 , 22.99    ],\n",
       "       [ 1.8796  , 97.52228 , 34.69    ],\n",
       "       [ 1.8288  , 95.25432 , 30.78    ],\n",
       "       [ 1.8288  , 95.25432 , 35.43    ],\n",
       "       [ 1.8542  , 85.275296, 35.71    ],\n",
       "       [ 1.7526  , 79.832192, 29.39    ]])"
      ]
     },
     "execution_count": 39,
     "metadata": {},
     "output_type": "execute_result"
    }
   ],
   "source": [
    "sporcular3 = [[74.0, 180.0, 22.99],\n",
    " [74.0, 215.0, 34.69],\n",
    " [72.0, 210.0, 30.78],\n",
    " [72.0, 210.0, 35.43],\n",
    " [73.0, 188.0, 35.71],\n",
    " [69.0, 176.0, 29.39]]\n",
    "\n",
    "# numpy arrayine ceviriniz: np_sporcular3\n",
    "np_sporcular3 = np.array(sporcular3)\n",
    "\n",
    "# birimleri degistirmek icin ilgili katsayilar\n",
    "katsayilar = np.array([0.0254, 0.453592, 1])\n",
    "\n",
    "# katsayilar ile carparak, np_sporcular3 un kg m cinsinden yazdiriniz\n",
    "np_sporcular3 * katsayilar"
   ]
  },
  {
   "cell_type": "markdown",
   "metadata": {},
   "source": [
    "11. Numpy ile basit istatistikler: np.mean() np.median()"
   ]
  },
  {
   "cell_type": "code",
   "execution_count": 6,
   "metadata": {},
   "outputs": [
    {
     "data": {
      "text/plain": [
       "72.0"
      ]
     },
     "execution_count": 6,
     "metadata": {},
     "output_type": "execute_result"
    }
   ],
   "source": [
    "sporcular4 = [[7.400e+04, 1.800e+02, 2.299e+01],\n",
    "              [7.400e+01, 2.150e+02, 3.469e+01],\n",
    "              [7.200e+01, 2.100e+02, 3.078e+01],\n",
    "              [7.200e+01, 2.100e+02, 3.543e+01],\n",
    "              [7.300e+01, 1.880e+02, 3.571e+01],\n",
    "              [6.900e+01, 1.760e+02, 2.939e+01],\n",
    "              [6.900e+01, 2.090e+02, 3.077e+01],\n",
    "              [7.100e+01, 2.000e+02, 3.507e+01]]\n",
    "\n",
    "np_sporcular4 = np.array(sporcular4)\n",
    "\n",
    "# ilk sutunu seciniz: np_boy_inc olarak kaydidiniz\n",
    "np_boy_inc = np_sporcular4[:,0]\n",
    "\n",
    "# boy ortalamasini yazdiriniz\n",
    "np.mean(np_boy_inc)\n",
    "\n",
    "# boy degerlerinin ortanca olanini yazdiriniz\n",
    "np.median(np_boy_inc)"
   ]
  },
  {
   "cell_type": "code",
   "execution_count": 10,
   "metadata": {},
   "outputs": [
    {
     "name": "stdout",
     "output_type": "stream",
     "text": [
      "Boy ortalamasi:  9312.5\n",
      "Medyan:  72.0\n",
      "Standart sapmasi: 24449.57690329221\n"
     ]
    }
   ],
   "source": [
    "# boy ortalamasi (1. kolon/sutun)\n",
    "ort = np_boy_inc\n",
    "print(\"Boy ortalamasi: \" , np.mean(ort))\n",
    "\n",
    "# boy medyan degeri:\n",
    "med = np.median(np_boy_inc)\n",
    "print(\"Medyan: \" ,    med     )\n",
    "\n",
    "# boylarin standart sapmasi:\n",
    "s_sapma = np.std(np_boy_inc)\n",
    "print(\"Standart sapmasi: \" + str(s_sapma))"
   ]
  },
  {
   "cell_type": "markdown",
   "metadata": {},
   "source": [
    "12. Bu baslik sonunda bos hucre ekleyerek Numpy ile ilgili karalama, test etme, uygulama, deneme-yanilma, farkli kombinasyonlari denemeler yapiniz:"
   ]
  },
  {
   "cell_type": "code",
   "execution_count": null,
   "metadata": {},
   "outputs": [],
   "source": []
  },
  {
   "cell_type": "code",
   "execution_count": null,
   "metadata": {},
   "outputs": [],
   "source": []
  },
  {
   "cell_type": "code",
   "execution_count": null,
   "metadata": {},
   "outputs": [],
   "source": []
  },
  {
   "cell_type": "markdown",
   "metadata": {},
   "source": [
    "# Pandas"
   ]
  },
  {
   "cell_type": "markdown",
   "metadata": {},
   "source": [
    "13. sozlukten Dataframe olusturma:  pd.DataFrame()"
   ]
  },
  {
   "cell_type": "code",
   "execution_count": 12,
   "metadata": {},
   "outputs": [
    {
     "data": {
      "text/html": [
       "<div>\n",
       "<style scoped>\n",
       "    .dataframe tbody tr th:only-of-type {\n",
       "        vertical-align: middle;\n",
       "    }\n",
       "\n",
       "    .dataframe tbody tr th {\n",
       "        vertical-align: top;\n",
       "    }\n",
       "\n",
       "    .dataframe thead th {\n",
       "        text-align: right;\n",
       "    }\n",
       "</style>\n",
       "<table border=\"1\" class=\"dataframe\">\n",
       "  <thead>\n",
       "    <tr style=\"text-align: right;\">\n",
       "      <th></th>\n",
       "      <th>ulkeler</th>\n",
       "      <th>direksiyon_sag</th>\n",
       "      <th>arac_sayisi</th>\n",
       "    </tr>\n",
       "  </thead>\n",
       "  <tbody>\n",
       "    <tr>\n",
       "      <th>0</th>\n",
       "      <td>United States</td>\n",
       "      <td>True</td>\n",
       "      <td>809</td>\n",
       "    </tr>\n",
       "    <tr>\n",
       "      <th>1</th>\n",
       "      <td>Australia</td>\n",
       "      <td>False</td>\n",
       "      <td>731</td>\n",
       "    </tr>\n",
       "    <tr>\n",
       "      <th>2</th>\n",
       "      <td>Japan</td>\n",
       "      <td>False</td>\n",
       "      <td>588</td>\n",
       "    </tr>\n",
       "    <tr>\n",
       "      <th>3</th>\n",
       "      <td>India</td>\n",
       "      <td>False</td>\n",
       "      <td>18</td>\n",
       "    </tr>\n",
       "    <tr>\n",
       "      <th>4</th>\n",
       "      <td>Russia</td>\n",
       "      <td>True</td>\n",
       "      <td>200</td>\n",
       "    </tr>\n",
       "    <tr>\n",
       "      <th>5</th>\n",
       "      <td>Morocco</td>\n",
       "      <td>True</td>\n",
       "      <td>70</td>\n",
       "    </tr>\n",
       "    <tr>\n",
       "      <th>6</th>\n",
       "      <td>Egypt</td>\n",
       "      <td>True</td>\n",
       "      <td>45</td>\n",
       "    </tr>\n",
       "  </tbody>\n",
       "</table>\n",
       "</div>"
      ],
      "text/plain": [
       "         ulkeler  direksiyon_sag  arac_sayisi\n",
       "0  United States            True          809\n",
       "1      Australia           False          731\n",
       "2          Japan           False          588\n",
       "3          India           False           18\n",
       "4         Russia            True          200\n",
       "5        Morocco            True           70\n",
       "6          Egypt            True           45"
      ]
     },
     "execution_count": 12,
     "metadata": {},
     "output_type": "execute_result"
    }
   ],
   "source": [
    "isimler = ['United States', 'Australia', 'Japan', 'India', 'Russia', 'Morocco', 'Egypt']\n",
    "direks_sag =  [True, False, False, False, True, True, True]\n",
    "arac = [809, 731, 588, 18, 200, 70, 45]\n",
    "\n",
    "# pandas kutuphanesini import ediniz\n",
    "import pandas as pd\n",
    "\n",
    "# verilen listeleri kullanarak sozlugum adli bir sozluk olusturunuz. \n",
    "# degisken adlari:  ulkeler,  direksiyon_sag,  arac_sayisi\n",
    "sozlugum = { 'ulkeler': isimler   , 'direksiyon_sag':direks_sag   , 'arac_sayisi': arac   }\n",
    "\n",
    "# 'sozlugum' adli sozluk u Dataframe e ceviriniz: 'araclar' ismi ile kaydediniz\n",
    "araclar = pd.DataFrame(sozlugum)\n",
    "\n",
    "# bu dataframe i yazdiriniz\n",
    "araclar"
   ]
  },
  {
   "cell_type": "markdown",
   "metadata": {},
   "source": [
    "14. gozlem indeksleri atama: df.index ="
   ]
  },
  {
   "cell_type": "code",
   "execution_count": 13,
   "metadata": {},
   "outputs": [
    {
     "data": {
      "text/html": [
       "<div>\n",
       "<style scoped>\n",
       "    .dataframe tbody tr th:only-of-type {\n",
       "        vertical-align: middle;\n",
       "    }\n",
       "\n",
       "    .dataframe tbody tr th {\n",
       "        vertical-align: top;\n",
       "    }\n",
       "\n",
       "    .dataframe thead th {\n",
       "        text-align: right;\n",
       "    }\n",
       "</style>\n",
       "<table border=\"1\" class=\"dataframe\">\n",
       "  <thead>\n",
       "    <tr style=\"text-align: right;\">\n",
       "      <th></th>\n",
       "      <th>ulkeler</th>\n",
       "      <th>direksiyon_sag</th>\n",
       "      <th>arac_sayisi</th>\n",
       "    </tr>\n",
       "  </thead>\n",
       "  <tbody>\n",
       "    <tr>\n",
       "      <th>US</th>\n",
       "      <td>United States</td>\n",
       "      <td>True</td>\n",
       "      <td>809</td>\n",
       "    </tr>\n",
       "    <tr>\n",
       "      <th>AUS</th>\n",
       "      <td>Australia</td>\n",
       "      <td>False</td>\n",
       "      <td>731</td>\n",
       "    </tr>\n",
       "    <tr>\n",
       "      <th>JAP</th>\n",
       "      <td>Japan</td>\n",
       "      <td>False</td>\n",
       "      <td>588</td>\n",
       "    </tr>\n",
       "    <tr>\n",
       "      <th>IN</th>\n",
       "      <td>India</td>\n",
       "      <td>False</td>\n",
       "      <td>18</td>\n",
       "    </tr>\n",
       "    <tr>\n",
       "      <th>RU</th>\n",
       "      <td>Russia</td>\n",
       "      <td>True</td>\n",
       "      <td>200</td>\n",
       "    </tr>\n",
       "    <tr>\n",
       "      <th>MOR</th>\n",
       "      <td>Morocco</td>\n",
       "      <td>True</td>\n",
       "      <td>70</td>\n",
       "    </tr>\n",
       "    <tr>\n",
       "      <th>EG</th>\n",
       "      <td>Egypt</td>\n",
       "      <td>True</td>\n",
       "      <td>45</td>\n",
       "    </tr>\n",
       "  </tbody>\n",
       "</table>\n",
       "</div>"
      ],
      "text/plain": [
       "           ulkeler  direksiyon_sag  arac_sayisi\n",
       "US   United States            True          809\n",
       "AUS      Australia           False          731\n",
       "JAP          Japan           False          588\n",
       "IN           India           False           18\n",
       "RU          Russia            True          200\n",
       "MOR        Morocco            True           70\n",
       "EG           Egypt            True           45"
      ]
     },
     "execution_count": 13,
     "metadata": {},
     "output_type": "execute_result"
    }
   ],
   "source": [
    "satir_indeksleri = ['US', 'AUS', 'JAP', 'IN', 'RU', 'MOR', 'EG']\n",
    "\n",
    "# verilen diziyi araclar dataframe inin indeksi icin kullaniniz\n",
    "araclar.index = satir_indeksleri\n",
    "\n",
    "# araclar dataframe ini tekrar yazdiriniz\n",
    "araclar"
   ]
  },
  {
   "cell_type": "markdown",
   "metadata": {},
   "source": [
    "15. csv dosyasi okuma:"
   ]
  },
  {
   "cell_type": "code",
   "execution_count": 14,
   "metadata": {},
   "outputs": [
    {
     "data": {
      "text/html": [
       "<div>\n",
       "<style scoped>\n",
       "    .dataframe tbody tr th:only-of-type {\n",
       "        vertical-align: middle;\n",
       "    }\n",
       "\n",
       "    .dataframe tbody tr th {\n",
       "        vertical-align: top;\n",
       "    }\n",
       "\n",
       "    .dataframe thead th {\n",
       "        text-align: right;\n",
       "    }\n",
       "</style>\n",
       "<table border=\"1\" class=\"dataframe\">\n",
       "  <thead>\n",
       "    <tr style=\"text-align: right;\">\n",
       "      <th></th>\n",
       "      <th>Unnamed: 0</th>\n",
       "      <th>cars_per_cap</th>\n",
       "      <th>country</th>\n",
       "      <th>drives_right</th>\n",
       "    </tr>\n",
       "  </thead>\n",
       "  <tbody>\n",
       "    <tr>\n",
       "      <th>0</th>\n",
       "      <td>US</td>\n",
       "      <td>809</td>\n",
       "      <td>United States</td>\n",
       "      <td>True</td>\n",
       "    </tr>\n",
       "    <tr>\n",
       "      <th>1</th>\n",
       "      <td>AUS</td>\n",
       "      <td>731</td>\n",
       "      <td>Australia</td>\n",
       "      <td>False</td>\n",
       "    </tr>\n",
       "    <tr>\n",
       "      <th>2</th>\n",
       "      <td>JAP</td>\n",
       "      <td>588</td>\n",
       "      <td>Japan</td>\n",
       "      <td>False</td>\n",
       "    </tr>\n",
       "    <tr>\n",
       "      <th>3</th>\n",
       "      <td>IN</td>\n",
       "      <td>18</td>\n",
       "      <td>India</td>\n",
       "      <td>False</td>\n",
       "    </tr>\n",
       "    <tr>\n",
       "      <th>4</th>\n",
       "      <td>RU</td>\n",
       "      <td>200</td>\n",
       "      <td>Russia</td>\n",
       "      <td>True</td>\n",
       "    </tr>\n",
       "  </tbody>\n",
       "</table>\n",
       "</div>"
      ],
      "text/plain": [
       "  Unnamed: 0  cars_per_cap        country  drives_right\n",
       "0         US           809  United States          True\n",
       "1        AUS           731      Australia         False\n",
       "2        JAP           588          Japan         False\n",
       "3         IN            18          India         False\n",
       "4         RU           200         Russia          True"
      ]
     },
     "execution_count": 14,
     "metadata": {},
     "output_type": "execute_result"
    }
   ],
   "source": [
    "# pandas i import ediniz:\n",
    "\n",
    "import pandas as pd\n",
    "# cars.csv  dosyasini cars adi ile kaydediniz\n",
    "cars = pd.read_csv('cars.csv')\n",
    "\n",
    "# cars verisinin ilk 5 gozlemini yazdiriniz\n",
    "cars.head()"
   ]
  },
  {
   "cell_type": "markdown",
   "metadata": {},
   "source": [
    "16. ilk kolonu satirlarin indeksi olarak acmak icin kulanilan arguman:  index_col = 0"
   ]
  },
  {
   "cell_type": "code",
   "execution_count": 17,
   "metadata": {},
   "outputs": [
    {
     "data": {
      "text/html": [
       "<div>\n",
       "<style scoped>\n",
       "    .dataframe tbody tr th:only-of-type {\n",
       "        vertical-align: middle;\n",
       "    }\n",
       "\n",
       "    .dataframe tbody tr th {\n",
       "        vertical-align: top;\n",
       "    }\n",
       "\n",
       "    .dataframe thead th {\n",
       "        text-align: right;\n",
       "    }\n",
       "</style>\n",
       "<table border=\"1\" class=\"dataframe\">\n",
       "  <thead>\n",
       "    <tr style=\"text-align: right;\">\n",
       "      <th></th>\n",
       "      <th>cars_per_cap</th>\n",
       "      <th>country</th>\n",
       "      <th>drives_right</th>\n",
       "    </tr>\n",
       "  </thead>\n",
       "  <tbody>\n",
       "    <tr>\n",
       "      <th>US</th>\n",
       "      <td>809</td>\n",
       "      <td>United States</td>\n",
       "      <td>True</td>\n",
       "    </tr>\n",
       "    <tr>\n",
       "      <th>AUS</th>\n",
       "      <td>731</td>\n",
       "      <td>Australia</td>\n",
       "      <td>False</td>\n",
       "    </tr>\n",
       "    <tr>\n",
       "      <th>JAP</th>\n",
       "      <td>588</td>\n",
       "      <td>Japan</td>\n",
       "      <td>False</td>\n",
       "    </tr>\n",
       "    <tr>\n",
       "      <th>IN</th>\n",
       "      <td>18</td>\n",
       "      <td>India</td>\n",
       "      <td>False</td>\n",
       "    </tr>\n",
       "    <tr>\n",
       "      <th>RU</th>\n",
       "      <td>200</td>\n",
       "      <td>Russia</td>\n",
       "      <td>True</td>\n",
       "    </tr>\n",
       "    <tr>\n",
       "      <th>MOR</th>\n",
       "      <td>70</td>\n",
       "      <td>Morocco</td>\n",
       "      <td>True</td>\n",
       "    </tr>\n",
       "    <tr>\n",
       "      <th>EG</th>\n",
       "      <td>45</td>\n",
       "      <td>Egypt</td>\n",
       "      <td>True</td>\n",
       "    </tr>\n",
       "  </tbody>\n",
       "</table>\n",
       "</div>"
      ],
      "text/plain": [
       "     cars_per_cap        country  drives_right\n",
       "US            809  United States          True\n",
       "AUS           731      Australia         False\n",
       "JAP           588          Japan         False\n",
       "IN             18          India         False\n",
       "RU            200         Russia          True\n",
       "MOR            70        Morocco          True\n",
       "EG             45          Egypt          True"
      ]
     },
     "execution_count": 17,
     "metadata": {},
     "output_type": "execute_result"
    }
   ],
   "source": [
    "# ilk sutun gozlemlerin indeksi olarak belirlenmis olarak csv dosyasini okuyunuz:\n",
    "cars = pd.read_csv('cars.csv',  index_col=[0]     )\n",
    "\n",
    "\n",
    "# cars verisini tekrar yazdiriniz'\n",
    "cars"
   ]
  },
  {
   "cell_type": "markdown",
   "metadata": {},
   "source": [
    "17. Koseli parantezle degisken secme :"
   ]
  },
  {
   "cell_type": "code",
   "execution_count": 19,
   "metadata": {},
   "outputs": [
    {
     "name": "stdout",
     "output_type": "stream",
     "text": [
      "US     United States\n",
      "AUS        Australia\n",
      "JAP            Japan\n",
      "IN             India\n",
      "RU            Russia\n",
      "MOR          Morocco\n",
      "EG             Egypt\n",
      "Name: country, dtype: object\n",
      "           country\n",
      "US   United States\n",
      "AUS      Australia\n",
      "JAP          Japan\n",
      "IN           India\n",
      "RU          Russia\n",
      "MOR        Morocco\n",
      "EG           Egypt\n",
      "           country  drives_right\n",
      "US   United States          True\n",
      "AUS      Australia         False\n",
      "JAP          Japan         False\n",
      "IN           India         False\n",
      "RU          Russia          True\n",
      "MOR        Morocco          True\n",
      "EG           Egypt          True\n"
     ]
    }
   ],
   "source": [
    "# country degiskenini bir Pandas Series olarak yazdiriniz\n",
    "print(cars['country'])\n",
    "\n",
    "# country degiskenini bir  Pandas DataFrame olarak yazdiriniz\n",
    "print(cars[['country']])\n",
    "\n",
    "# dataframe in sadece country ve drives_right degiskenlerini secerek yazdiriniz\n",
    "print(cars[['country', 'drives_right']])"
   ]
  },
  {
   "cell_type": "markdown",
   "metadata": {},
   "source": [
    "18. Koseli parantezle gozlem secme :"
   ]
  },
  {
   "cell_type": "code",
   "execution_count": 21,
   "metadata": {},
   "outputs": [
    {
     "name": "stdout",
     "output_type": "stream",
     "text": [
      "     cars_per_cap        country  drives_right\n",
      "US            809  United States          True\n",
      "AUS           731      Australia         False\n",
      "JAP           588          Japan         False\n"
     ]
    },
    {
     "data": {
      "text/html": [
       "<div>\n",
       "<style scoped>\n",
       "    .dataframe tbody tr th:only-of-type {\n",
       "        vertical-align: middle;\n",
       "    }\n",
       "\n",
       "    .dataframe tbody tr th {\n",
       "        vertical-align: top;\n",
       "    }\n",
       "\n",
       "    .dataframe thead th {\n",
       "        text-align: right;\n",
       "    }\n",
       "</style>\n",
       "<table border=\"1\" class=\"dataframe\">\n",
       "  <thead>\n",
       "    <tr style=\"text-align: right;\">\n",
       "      <th></th>\n",
       "      <th>cars_per_cap</th>\n",
       "      <th>country</th>\n",
       "      <th>drives_right</th>\n",
       "    </tr>\n",
       "  </thead>\n",
       "  <tbody>\n",
       "    <tr>\n",
       "      <th>IN</th>\n",
       "      <td>18</td>\n",
       "      <td>India</td>\n",
       "      <td>False</td>\n",
       "    </tr>\n",
       "    <tr>\n",
       "      <th>RU</th>\n",
       "      <td>200</td>\n",
       "      <td>Russia</td>\n",
       "      <td>True</td>\n",
       "    </tr>\n",
       "    <tr>\n",
       "      <th>MOR</th>\n",
       "      <td>70</td>\n",
       "      <td>Morocco</td>\n",
       "      <td>True</td>\n",
       "    </tr>\n",
       "  </tbody>\n",
       "</table>\n",
       "</div>"
      ],
      "text/plain": [
       "     cars_per_cap  country  drives_right\n",
       "IN             18    India         False\n",
       "RU            200   Russia          True\n",
       "MOR            70  Morocco          True"
      ]
     },
     "execution_count": 21,
     "metadata": {},
     "output_type": "execute_result"
    }
   ],
   "source": [
    "# cars verisinin ilk 3 gozlemi yazdiriniz\n",
    "print(cars[0:3])\n",
    "\n",
    "# 4. 5. ve 6. gozlemleri yazdiriniz\n",
    "cars[3:6]"
   ]
  },
  {
   "cell_type": "markdown",
   "metadata": {},
   "source": [
    "19. loc ve iloc:"
   ]
  },
  {
   "cell_type": "code",
   "execution_count": 22,
   "metadata": {},
   "outputs": [
    {
     "name": "stdout",
     "output_type": "stream",
     "text": [
      "cars_per_cap      588\n",
      "country         Japan\n",
      "drives_right    False\n",
      "Name: JAP, dtype: object\n",
      "     cars_per_cap    country  drives_right\n",
      "JAP           588      Japan         False\n",
      "AUS           731  Australia         False\n"
     ]
    }
   ],
   "source": [
    "# sadece Japonya ya ait bilgileri yazdiriniz\n",
    "print(cars.loc['JAP'])\n",
    "\n",
    "# Avusturya ve Misira ait bilgileri yazdiriiniz\n",
    "print(cars.loc[['JAP', 'AUS']])"
   ]
  },
  {
   "cell_type": "markdown",
   "metadata": {},
   "source": [
    "20. loc ve iloc 2:"
   ]
  },
  {
   "cell_type": "code",
   "execution_count": 30,
   "metadata": {},
   "outputs": [
    {
     "name": "stdout",
     "output_type": "stream",
     "text": [
      "True\n",
      "     country  drives_right\n",
      "RU    Russia          True\n",
      "MOR  Morocco          True\n"
     ]
    }
   ],
   "source": [
    "# Morocco a ait drives_right bilgisini yazdiriniz\n",
    "print(cars.loc['MOR']['drives_right'])\n",
    "\n",
    "# rusya ve morocco nun country ve drives_right bilgilerini yazdiriniz:\n",
    "print(cars.loc[['RU','MOR'],['country','drives_right']])\n"
   ]
  },
  {
   "cell_type": "markdown",
   "metadata": {},
   "source": [
    "21. loc ve iloc 3:"
   ]
  },
  {
   "cell_type": "code",
   "execution_count": 34,
   "metadata": {},
   "outputs": [
    {
     "name": "stdout",
     "output_type": "stream",
     "text": [
      "US      True\n",
      "AUS    False\n",
      "JAP    False\n",
      "IN     False\n",
      "RU      True\n",
      "MOR     True\n",
      "EG      True\n",
      "Name: drives_right, dtype: bool\n",
      "     drives_right\n",
      "US           True\n",
      "AUS         False\n",
      "JAP         False\n",
      "IN          False\n",
      "RU           True\n",
      "MOR          True\n",
      "EG           True\n",
      "     cars_per_cap  drives_right\n",
      "US            809          True\n",
      "AUS           731         False\n",
      "JAP           588         False\n",
      "IN             18         False\n",
      "RU            200          True\n",
      "MOR            70          True\n",
      "EG             45          True\n"
     ]
    }
   ],
   "source": [
    "# drives_right kolonunu(degiskenini) bir Series olarak yazdiriniz:\n",
    "print(cars.loc[:,'drives_right'])\n",
    "\n",
    "# drives_right kolonunu(degiskenini) bir DataFrame olarak yazdiriniz:\n",
    "print(cars.loc[:,['drives_right']])\n",
    "\n",
    "# cars_per_cap ve drives_right kolonlarini(degiskenlerini) bir DataFrame olarak yazdiriniz:\n",
    "print(cars.loc[:,['cars_per_cap','drives_right']])\n"
   ]
  },
  {
   "cell_type": "markdown",
   "metadata": {},
   "source": [
    "22. Pandas DataFrame uzerinde filtreleme:     df[df['column1']]"
   ]
  },
  {
   "cell_type": "code",
   "execution_count": 39,
   "metadata": {},
   "outputs": [
    {
     "data": {
      "text/html": [
       "<div>\n",
       "<style scoped>\n",
       "    .dataframe tbody tr th:only-of-type {\n",
       "        vertical-align: middle;\n",
       "    }\n",
       "\n",
       "    .dataframe tbody tr th {\n",
       "        vertical-align: top;\n",
       "    }\n",
       "\n",
       "    .dataframe thead th {\n",
       "        text-align: right;\n",
       "    }\n",
       "</style>\n",
       "<table border=\"1\" class=\"dataframe\">\n",
       "  <thead>\n",
       "    <tr style=\"text-align: right;\">\n",
       "      <th></th>\n",
       "      <th>cars_per_cap</th>\n",
       "      <th>country</th>\n",
       "      <th>drives_right</th>\n",
       "    </tr>\n",
       "  </thead>\n",
       "  <tbody>\n",
       "    <tr>\n",
       "      <th>US</th>\n",
       "      <td>809</td>\n",
       "      <td>United States</td>\n",
       "      <td>True</td>\n",
       "    </tr>\n",
       "    <tr>\n",
       "      <th>RU</th>\n",
       "      <td>200</td>\n",
       "      <td>Russia</td>\n",
       "      <td>True</td>\n",
       "    </tr>\n",
       "    <tr>\n",
       "      <th>MOR</th>\n",
       "      <td>70</td>\n",
       "      <td>Morocco</td>\n",
       "      <td>True</td>\n",
       "    </tr>\n",
       "    <tr>\n",
       "      <th>EG</th>\n",
       "      <td>45</td>\n",
       "      <td>Egypt</td>\n",
       "      <td>True</td>\n",
       "    </tr>\n",
       "  </tbody>\n",
       "</table>\n",
       "</div>"
      ],
      "text/plain": [
       "     cars_per_cap        country  drives_right\n",
       "US            809  United States          True\n",
       "RU            200         Russia          True\n",
       "MOR            70        Morocco          True\n",
       "EG             45          Egypt          True"
      ]
     },
     "execution_count": 39,
     "metadata": {},
     "output_type": "execute_result"
    }
   ],
   "source": [
    "# sag direksiyonlu olanlari ifade eden drives_right kolonunu bir Series olarak dr adiyla kaydediniz: dr\n",
    "dr = cars['drives_right']\n",
    "\n",
    "#  dr i kullanarak cars dataframini filtreleyiniz, secilen adi ile kaydediniz: secilen\n",
    "# (burada dr icindeki True lara karsilik gelen gozlemleri secilir, digerleri secilmez)\n",
    "secilen = cars[dr]\n",
    "\n",
    "# secilen  dataframini yazdiriniz\n",
    "secilen\n"
   ]
  },
  {
   "cell_type": "code",
   "execution_count": 38,
   "metadata": {},
   "outputs": [
    {
     "data": {
      "text/html": [
       "<div>\n",
       "<style scoped>\n",
       "    .dataframe tbody tr th:only-of-type {\n",
       "        vertical-align: middle;\n",
       "    }\n",
       "\n",
       "    .dataframe tbody tr th {\n",
       "        vertical-align: top;\n",
       "    }\n",
       "\n",
       "    .dataframe thead th {\n",
       "        text-align: right;\n",
       "    }\n",
       "</style>\n",
       "<table border=\"1\" class=\"dataframe\">\n",
       "  <thead>\n",
       "    <tr style=\"text-align: right;\">\n",
       "      <th></th>\n",
       "      <th>cars_per_cap</th>\n",
       "      <th>country</th>\n",
       "      <th>drives_right</th>\n",
       "    </tr>\n",
       "  </thead>\n",
       "  <tbody>\n",
       "    <tr>\n",
       "      <th>AUS</th>\n",
       "      <td>731</td>\n",
       "      <td>Australia</td>\n",
       "      <td>False</td>\n",
       "    </tr>\n",
       "    <tr>\n",
       "      <th>JAP</th>\n",
       "      <td>588</td>\n",
       "      <td>Japan</td>\n",
       "      <td>False</td>\n",
       "    </tr>\n",
       "    <tr>\n",
       "      <th>IN</th>\n",
       "      <td>18</td>\n",
       "      <td>India</td>\n",
       "      <td>False</td>\n",
       "    </tr>\n",
       "  </tbody>\n",
       "</table>\n",
       "</div>"
      ],
      "text/plain": [
       "     cars_per_cap    country  drives_right\n",
       "AUS           731  Australia         False\n",
       "JAP           588      Japan         False\n",
       "IN             18      India         False"
      ]
     },
     "execution_count": 38,
     "metadata": {},
     "output_type": "execute_result"
    }
   ],
   "source": [
    "cars[~cars['drives_right']] #false lari dondurur"
   ]
  },
  {
   "cell_type": "markdown",
   "metadata": {},
   "source": [
    "23. tek satirda ayni islem:"
   ]
  },
  {
   "cell_type": "code",
   "execution_count": 40,
   "metadata": {},
   "outputs": [
    {
     "data": {
      "text/html": [
       "<div>\n",
       "<style scoped>\n",
       "    .dataframe tbody tr th:only-of-type {\n",
       "        vertical-align: middle;\n",
       "    }\n",
       "\n",
       "    .dataframe tbody tr th {\n",
       "        vertical-align: top;\n",
       "    }\n",
       "\n",
       "    .dataframe thead th {\n",
       "        text-align: right;\n",
       "    }\n",
       "</style>\n",
       "<table border=\"1\" class=\"dataframe\">\n",
       "  <thead>\n",
       "    <tr style=\"text-align: right;\">\n",
       "      <th></th>\n",
       "      <th>cars_per_cap</th>\n",
       "      <th>country</th>\n",
       "      <th>drives_right</th>\n",
       "    </tr>\n",
       "  </thead>\n",
       "  <tbody>\n",
       "    <tr>\n",
       "      <th>US</th>\n",
       "      <td>809</td>\n",
       "      <td>United States</td>\n",
       "      <td>True</td>\n",
       "    </tr>\n",
       "    <tr>\n",
       "      <th>RU</th>\n",
       "      <td>200</td>\n",
       "      <td>Russia</td>\n",
       "      <td>True</td>\n",
       "    </tr>\n",
       "    <tr>\n",
       "      <th>MOR</th>\n",
       "      <td>70</td>\n",
       "      <td>Morocco</td>\n",
       "      <td>True</td>\n",
       "    </tr>\n",
       "    <tr>\n",
       "      <th>EG</th>\n",
       "      <td>45</td>\n",
       "      <td>Egypt</td>\n",
       "      <td>True</td>\n",
       "    </tr>\n",
       "  </tbody>\n",
       "</table>\n",
       "</div>"
      ],
      "text/plain": [
       "     cars_per_cap        country  drives_right\n",
       "US            809  United States          True\n",
       "RU            200         Russia          True\n",
       "MOR            70        Morocco          True\n",
       "EG             45          Egypt          True"
      ]
     },
     "execution_count": 40,
     "metadata": {},
     "output_type": "execute_result"
    }
   ],
   "source": [
    "# Yukaridaki secme islemini aynisini tek satirda yapiniz:\n",
    "\n",
    "secilen1 = cars[cars['drives_right']]\n",
    "# secilen  dataframe ini yazdiriniz:\n",
    "secilen1"
   ]
  },
  {
   "cell_type": "markdown",
   "metadata": {},
   "source": [
    "24. Filtreleme-Secme 2:"
   ]
  },
  {
   "cell_type": "code",
   "execution_count": 42,
   "metadata": {},
   "outputs": [
    {
     "data": {
      "text/html": [
       "<div>\n",
       "<style scoped>\n",
       "    .dataframe tbody tr th:only-of-type {\n",
       "        vertical-align: middle;\n",
       "    }\n",
       "\n",
       "    .dataframe tbody tr th {\n",
       "        vertical-align: top;\n",
       "    }\n",
       "\n",
       "    .dataframe thead th {\n",
       "        text-align: right;\n",
       "    }\n",
       "</style>\n",
       "<table border=\"1\" class=\"dataframe\">\n",
       "  <thead>\n",
       "    <tr style=\"text-align: right;\">\n",
       "      <th></th>\n",
       "      <th>cars_per_cap</th>\n",
       "      <th>country</th>\n",
       "      <th>drives_right</th>\n",
       "    </tr>\n",
       "  </thead>\n",
       "  <tbody>\n",
       "    <tr>\n",
       "      <th>US</th>\n",
       "      <td>809</td>\n",
       "      <td>United States</td>\n",
       "      <td>True</td>\n",
       "    </tr>\n",
       "    <tr>\n",
       "      <th>AUS</th>\n",
       "      <td>731</td>\n",
       "      <td>Australia</td>\n",
       "      <td>False</td>\n",
       "    </tr>\n",
       "    <tr>\n",
       "      <th>JAP</th>\n",
       "      <td>588</td>\n",
       "      <td>Japan</td>\n",
       "      <td>False</td>\n",
       "    </tr>\n",
       "  </tbody>\n",
       "</table>\n",
       "</div>"
      ],
      "text/plain": [
       "     cars_per_cap        country  drives_right\n",
       "US            809  United States          True\n",
       "AUS           731      Australia         False\n",
       "JAP           588          Japan         False"
      ]
     },
     "execution_count": 42,
     "metadata": {},
     "output_type": "execute_result"
    }
   ],
   "source": [
    "# cars_per_cap degeri 500 den buyuk olan degerleri seciniz. bu veriyi  car_maniac  adiyla kaydediniz \n",
    "cpc = cars['cars_per_cap']\n",
    "many_cars = cpc > 500\n",
    "car_maniac = cars[many_cars]\n",
    "\n",
    "#  car_maniac  verisini yazdiriniz\n",
    "car_maniac"
   ]
  },
  {
   "cell_type": "markdown",
   "metadata": {},
   "source": [
    "25. Filtreleme-Secme 3:"
   ]
  },
  {
   "cell_type": "raw",
   "metadata": {},
   "source": [
    "Ormek:\n",
    "cpc = cars['cars_per_cap']\n",
    "between = np.logical_and(cpc > 10, cpc < 80)\n",
    "medium = cars[between]"
   ]
  },
  {
   "cell_type": "code",
   "execution_count": 50,
   "metadata": {},
   "outputs": [
    {
     "data": {
      "text/html": [
       "<div>\n",
       "<style scoped>\n",
       "    .dataframe tbody tr th:only-of-type {\n",
       "        vertical-align: middle;\n",
       "    }\n",
       "\n",
       "    .dataframe tbody tr th {\n",
       "        vertical-align: top;\n",
       "    }\n",
       "\n",
       "    .dataframe thead th {\n",
       "        text-align: right;\n",
       "    }\n",
       "</style>\n",
       "<table border=\"1\" class=\"dataframe\">\n",
       "  <thead>\n",
       "    <tr style=\"text-align: right;\">\n",
       "      <th></th>\n",
       "      <th>cars_per_cap</th>\n",
       "      <th>country</th>\n",
       "      <th>drives_right</th>\n",
       "    </tr>\n",
       "  </thead>\n",
       "  <tbody>\n",
       "    <tr>\n",
       "      <th>RU</th>\n",
       "      <td>200</td>\n",
       "      <td>Russia</td>\n",
       "      <td>True</td>\n",
       "    </tr>\n",
       "  </tbody>\n",
       "</table>\n",
       "</div>"
      ],
      "text/plain": [
       "    cars_per_cap country  drives_right\n",
       "RU           200  Russia          True"
      ]
     },
     "execution_count": 50,
     "metadata": {},
     "output_type": "execute_result"
    }
   ],
   "source": [
    "import numpy as np\n",
    "\n",
    "# cars_per_cap degeri 500 den buyuk ve 100 den kucuk olan degerleri seciniz. bu veriyi  medium  adiyla kaydediniz\n",
    "\n",
    "medium = cars[np.logical_and(cpc > 100 , cpc < 500)]\n",
    "# medium u yazdiriniz\n",
    "medium"
   ]
  },
  {
   "cell_type": "markdown",
   "metadata": {},
   "source": [
    "26. DataFrame uzerinde dongu"
   ]
  },
  {
   "cell_type": "raw",
   "metadata": {},
   "source": [
    "Bilgi:\n",
    "\n",
    "for sutun, satir in df.iterrows() :\n",
    "    ..."
   ]
  },
  {
   "cell_type": "code",
   "execution_count": 49,
   "metadata": {},
   "outputs": [
    {
     "name": "stdout",
     "output_type": "stream",
     "text": [
      "cars_per_cap              809\n",
      "country         United States\n",
      "drives_right             True\n",
      "Name: US, dtype: object\n",
      "cars_per_cap          731\n",
      "country         Australia\n",
      "drives_right        False\n",
      "Name: AUS, dtype: object\n",
      "cars_per_cap      588\n",
      "country         Japan\n",
      "drives_right    False\n",
      "Name: JAP, dtype: object\n",
      "cars_per_cap       18\n",
      "country         India\n",
      "drives_right    False\n",
      "Name: IN, dtype: object\n",
      "cars_per_cap       200\n",
      "country         Russia\n",
      "drives_right      True\n",
      "Name: RU, dtype: object\n",
      "cars_per_cap         70\n",
      "country         Morocco\n",
      "drives_right       True\n",
      "Name: MOR, dtype: object\n",
      "cars_per_cap       45\n",
      "country         Egypt\n",
      "drives_right     True\n",
      "Name: EG, dtype: object\n"
     ]
    }
   ],
   "source": [
    "# cars uzerinde for ile dongu kurarak degisken adini ve satiri yazdiriniz\n",
    "for variable, row in cars.iterrows():\n",
    "    print(row)\n",
    "    "
   ]
  },
  {
   "cell_type": "markdown",
   "metadata": {},
   "source": [
    "27. DataFrame uzerinde dongu-2"
   ]
  },
  {
   "cell_type": "raw",
   "metadata": {},
   "source": [
    "BILGI:\n",
    "\n",
    "for var, row in brics.iterrows() :\n",
    "    print(row['country'])"
   ]
  },
  {
   "cell_type": "raw",
   "metadata": {},
   "source": [
    "US: 809\n",
    "AUS: 731\n",
    "JAP: 588\n",
    "IN: 18\n",
    "RU: 200\n",
    "MOR: 70\n",
    "EG: 45"
   ]
  },
  {
   "cell_type": "code",
   "execution_count": 53,
   "metadata": {},
   "outputs": [
    {
     "name": "stdout",
     "output_type": "stream",
     "text": [
      "US : 809\n",
      "AUS : 731\n",
      "JAP : 588\n",
      "IN : 18\n",
      "RU : 200\n",
      "MOR : 70\n",
      "EG : 45\n"
     ]
    }
   ],
   "source": [
    "# bir ustteki hucrede yazilanlari cikti olarak elde ediniz. (df uzerinde dongu kullanarak)\n",
    "for var, row in cars.iterrows() :\n",
    "    print(   var,':',     row['cars_per_cap']  )"
   ]
  },
  {
   "cell_type": "markdown",
   "metadata": {},
   "source": [
    "28. Dongu ile bir degiskeni editleyip baska bir degisken olarak df e ekleme"
   ]
  },
  {
   "cell_type": "code",
   "execution_count": null,
   "metadata": {},
   "outputs": [],
   "source": [
    "cars"
   ]
  },
  {
   "cell_type": "code",
   "execution_count": 55,
   "metadata": {},
   "outputs": [
    {
     "data": {
      "text/html": [
       "<div>\n",
       "<style scoped>\n",
       "    .dataframe tbody tr th:only-of-type {\n",
       "        vertical-align: middle;\n",
       "    }\n",
       "\n",
       "    .dataframe tbody tr th {\n",
       "        vertical-align: top;\n",
       "    }\n",
       "\n",
       "    .dataframe thead th {\n",
       "        text-align: right;\n",
       "    }\n",
       "</style>\n",
       "<table border=\"1\" class=\"dataframe\">\n",
       "  <thead>\n",
       "    <tr style=\"text-align: right;\">\n",
       "      <th></th>\n",
       "      <th>cars_per_cap</th>\n",
       "      <th>country</th>\n",
       "      <th>drives_right</th>\n",
       "      <th>COUNTRY</th>\n",
       "    </tr>\n",
       "  </thead>\n",
       "  <tbody>\n",
       "    <tr>\n",
       "      <th>US</th>\n",
       "      <td>809</td>\n",
       "      <td>United States</td>\n",
       "      <td>True</td>\n",
       "      <td>UNITED STATES</td>\n",
       "    </tr>\n",
       "    <tr>\n",
       "      <th>AUS</th>\n",
       "      <td>731</td>\n",
       "      <td>Australia</td>\n",
       "      <td>False</td>\n",
       "      <td>AUSTRALIA</td>\n",
       "    </tr>\n",
       "    <tr>\n",
       "      <th>JAP</th>\n",
       "      <td>588</td>\n",
       "      <td>Japan</td>\n",
       "      <td>False</td>\n",
       "      <td>JAPAN</td>\n",
       "    </tr>\n",
       "    <tr>\n",
       "      <th>IN</th>\n",
       "      <td>18</td>\n",
       "      <td>India</td>\n",
       "      <td>False</td>\n",
       "      <td>INDIA</td>\n",
       "    </tr>\n",
       "    <tr>\n",
       "      <th>RU</th>\n",
       "      <td>200</td>\n",
       "      <td>Russia</td>\n",
       "      <td>True</td>\n",
       "      <td>RUSSIA</td>\n",
       "    </tr>\n",
       "    <tr>\n",
       "      <th>MOR</th>\n",
       "      <td>70</td>\n",
       "      <td>Morocco</td>\n",
       "      <td>True</td>\n",
       "      <td>MOROCCO</td>\n",
       "    </tr>\n",
       "    <tr>\n",
       "      <th>EG</th>\n",
       "      <td>45</td>\n",
       "      <td>Egypt</td>\n",
       "      <td>True</td>\n",
       "      <td>EGYPT</td>\n",
       "    </tr>\n",
       "  </tbody>\n",
       "</table>\n",
       "</div>"
      ],
      "text/plain": [
       "     cars_per_cap        country  drives_right        COUNTRY\n",
       "US            809  United States          True  UNITED STATES\n",
       "AUS           731      Australia         False      AUSTRALIA\n",
       "JAP           588          Japan         False          JAPAN\n",
       "IN             18          India         False          INDIA\n",
       "RU            200         Russia          True         RUSSIA\n",
       "MOR            70        Morocco          True        MOROCCO\n",
       "EG             45          Egypt          True          EGYPT"
      ]
     },
     "execution_count": 55,
     "metadata": {},
     "output_type": "execute_result"
    }
   ],
   "source": [
    "# Cars verisi uzerinde goruldugu gibu country adli bir degisken var. df uzerinde for dongu ile bu degiskeni kullanip \n",
    "# ayni ulke isimlerinin buyuk harfli halini barindiran yeni bir degisken olarak bu veriye ekleyiniz.\n",
    "# yeni degiskenin adi de COUNTRY seklinde olsun\n",
    "for var,row in cars.iterrows():\n",
    "    cars.loc[var,'COUNTRY'] = row['country'].upper()\n",
    "    \n",
    "# df i yazdiriniz\n",
    "cars"
   ]
  },
  {
   "cell_type": "markdown",
   "metadata": {},
   "source": [
    "29. dongu yerine .apply() methodu:"
   ]
  },
  {
   "cell_type": "raw",
   "metadata": {},
   "source": [
    "BILGI: Asagida verilen iki kod parcacigi ayni isi yapar:\n",
    "\n",
    "for degisken, satir in df.iterrows() :\n",
    "    df.loc[degisken, \"name_length\"] = len(satir[\"country\"])\n",
    "\n",
    "df[\"name_length\"] = df[\"country\"].apply(len)"
   ]
  },
  {
   "cell_type": "code",
   "execution_count": 56,
   "metadata": {},
   "outputs": [
    {
     "data": {
      "text/html": [
       "<div>\n",
       "<style scoped>\n",
       "    .dataframe tbody tr th:only-of-type {\n",
       "        vertical-align: middle;\n",
       "    }\n",
       "\n",
       "    .dataframe tbody tr th {\n",
       "        vertical-align: top;\n",
       "    }\n",
       "\n",
       "    .dataframe thead th {\n",
       "        text-align: right;\n",
       "    }\n",
       "</style>\n",
       "<table border=\"1\" class=\"dataframe\">\n",
       "  <thead>\n",
       "    <tr style=\"text-align: right;\">\n",
       "      <th></th>\n",
       "      <th>cars_per_cap</th>\n",
       "      <th>country</th>\n",
       "      <th>drives_right</th>\n",
       "      <th>COUNTRY</th>\n",
       "    </tr>\n",
       "  </thead>\n",
       "  <tbody>\n",
       "    <tr>\n",
       "      <th>US</th>\n",
       "      <td>809</td>\n",
       "      <td>United States</td>\n",
       "      <td>True</td>\n",
       "      <td>UNITED STATES</td>\n",
       "    </tr>\n",
       "    <tr>\n",
       "      <th>AUS</th>\n",
       "      <td>731</td>\n",
       "      <td>Australia</td>\n",
       "      <td>False</td>\n",
       "      <td>AUSTRALIA</td>\n",
       "    </tr>\n",
       "    <tr>\n",
       "      <th>JAP</th>\n",
       "      <td>588</td>\n",
       "      <td>Japan</td>\n",
       "      <td>False</td>\n",
       "      <td>JAPAN</td>\n",
       "    </tr>\n",
       "    <tr>\n",
       "      <th>IN</th>\n",
       "      <td>18</td>\n",
       "      <td>India</td>\n",
       "      <td>False</td>\n",
       "      <td>INDIA</td>\n",
       "    </tr>\n",
       "    <tr>\n",
       "      <th>RU</th>\n",
       "      <td>200</td>\n",
       "      <td>Russia</td>\n",
       "      <td>True</td>\n",
       "      <td>RUSSIA</td>\n",
       "    </tr>\n",
       "    <tr>\n",
       "      <th>MOR</th>\n",
       "      <td>70</td>\n",
       "      <td>Morocco</td>\n",
       "      <td>True</td>\n",
       "      <td>MOROCCO</td>\n",
       "    </tr>\n",
       "    <tr>\n",
       "      <th>EG</th>\n",
       "      <td>45</td>\n",
       "      <td>Egypt</td>\n",
       "      <td>True</td>\n",
       "      <td>EGYPT</td>\n",
       "    </tr>\n",
       "  </tbody>\n",
       "</table>\n",
       "</div>"
      ],
      "text/plain": [
       "     cars_per_cap        country  drives_right        COUNTRY\n",
       "US            809  United States          True  UNITED STATES\n",
       "AUS           731      Australia         False      AUSTRALIA\n",
       "JAP           588          Japan         False          JAPAN\n",
       "IN             18          India         False          INDIA\n",
       "RU            200         Russia          True         RUSSIA\n",
       "MOR            70        Morocco          True        MOROCCO\n",
       "EG             45          Egypt          True          EGYPT"
      ]
     },
     "execution_count": 56,
     "metadata": {},
     "output_type": "execute_result"
    }
   ],
   "source": [
    "import pandas as pd\n",
    "# cars verisinin ilk halini tekrar cagiralim:\n",
    "cars = pd.read_csv('cars.csv', index_col = 0)\n",
    "\n",
    "# 28. soruda yapilan ayni seyi .apply(str.upper)  yontemi ile yapiniz. (Bilgiye dikkat!)\n",
    "cars['COUNTRY']= cars['country'].apply(str.upper)\n",
    "\n",
    "# cars df sini yazdiriniz\n",
    "cars"
   ]
  },
  {
   "cell_type": "markdown",
   "metadata": {},
   "source": [
    "30. Bu baslik sonunda bos hucre ekleyerek Pandas ile ilgili karalama, test etme, uygulama, deneme-yanilma, farkli kombinasyonlari denemeler yapiniz:"
   ]
  },
  {
   "cell_type": "code",
   "execution_count": null,
   "metadata": {},
   "outputs": [],
   "source": []
  },
  {
   "cell_type": "code",
   "execution_count": null,
   "metadata": {},
   "outputs": [],
   "source": []
  },
  {
   "cell_type": "code",
   "execution_count": null,
   "metadata": {},
   "outputs": [],
   "source": []
  }
 ],
 "metadata": {
  "kernelspec": {
   "display_name": "Python 3",
   "language": "python",
   "name": "python3"
  },
  "language_info": {
   "codemirror_mode": {
    "name": "ipython",
    "version": 3
   },
   "file_extension": ".py",
   "mimetype": "text/x-python",
   "name": "python",
   "nbconvert_exporter": "python",
   "pygments_lexer": "ipython3",
   "version": "3.7.6"
  }
 },
 "nbformat": 4,
 "nbformat_minor": 4
}
